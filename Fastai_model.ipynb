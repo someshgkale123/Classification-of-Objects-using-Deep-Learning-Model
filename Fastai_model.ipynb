{
  "nbformat": 4,
  "nbformat_minor": 0,
  "metadata": {
    "colab": {
      "name": "Fastai_model.ipynb",
      "provenance": []
    },
    "kernelspec": {
      "name": "python3",
      "display_name": "Python 3"
    },
    "accelerator": "GPU"
  },
  "cells": [
    {
      "cell_type": "code",
      "metadata": {
        "id": "H1vuSyBw0dG_",
        "colab_type": "code",
        "outputId": "8c93a5c9-4135-4514-c88f-9a5048d6c82e",
        "colab": {
          "base_uri": "https://localhost:8080/",
          "height": 35
        }
      },
      "source": [
        "from google.colab import drive\n",
        "drive.mount('/content/drive')"
      ],
      "execution_count": 1,
      "outputs": [
        {
          "output_type": "stream",
          "text": [
            "Drive already mounted at /content/drive; to attempt to forcibly remount, call drive.mount(\"/content/drive\", force_remount=True).\n"
          ],
          "name": "stdout"
        }
      ]
    },
    {
      "cell_type": "code",
      "metadata": {
        "id": "2fNEPIp90jTL",
        "colab_type": "code",
        "colab": {}
      },
      "source": [
        "\n",
        "from fastai.vision import *\n",
        "from pathlib import Path\n",
        "import pandas as pd\n",
        "path=Path('/content/drive/My Drive/Colab Notebooks/bbc_train/')"
      ],
      "execution_count": 0,
      "outputs": []
    },
    {
      "cell_type": "code",
      "metadata": {
        "id": "q-fHlhg68v_0",
        "colab_type": "code",
        "colab": {}
      },
      "source": [
        ""
      ],
      "execution_count": 0,
      "outputs": []
    },
    {
      "cell_type": "code",
      "metadata": {
        "id": "gUG4mKYo83vA",
        "colab_type": "code",
        "colab": {}
      },
      "source": [
        "images, lbl_bbox = get_annotations(path/'bboxes.json')\n",
        "img2bbox = dict(zip(images, lbl_bbox))\n",
        "get_y_func = lambda o:img2bbox[o.name]\n",
        "src = ObjectItemList.from_folder(path/'images')\n",
        "def get_data(bs, size):\n",
        "    src = ObjectItemList.from_folder(path/'images')\n",
        "    src = src.split_by_rand_pct(0.2)\n",
        "    src = src.label_from_func(get_y_func)\n",
        "    src = src.transform(get_transforms(max_rotate=0), size=size, tfm_y=True)\n",
        "    return src.databunch(path=path, bs=bs, collate_fn=bb_pad_collate)\n",
        "\n",
        "data = get_data(bs=64,size=256)"
      ],
      "execution_count": 0,
      "outputs": []
    },
    {
      "cell_type": "code",
      "metadata": {
        "id": "Pq9eSYng5qL9",
        "colab_type": "code",
        "colab": {}
      },
      "source": [
        ""
      ],
      "execution_count": 0,
      "outputs": []
    },
    {
      "cell_type": "code",
      "metadata": {
        "id": "iHh_8lofAGj4",
        "colab_type": "code",
        "colab": {}
      },
      "source": [
        "\n",
        "class MyLoss(nn.Module):\n",
        "    def forward(self, yhat, bbox_tgts, class_tgts):\n",
        "        det_loss=nn.L1Loss()(yhat[:,:4].unsqueeze_(dim=1), bbox_tgts)\n",
        "        cls_loss=nn.CrossEntropyLoss()(yhat[:,4:], class_tgts.view(-1))\n",
        "        #print(det_loss, cls_loss)\n",
        "        \n",
        "        return det_loss + 1.0*cls_loss\n",
        "\n",
        "def my_accuracy(yhat, bbox_tgts, class_tgts):\n",
        "    return accuracy(yhat[:,4:], class_tgts.view(-1))\n",
        "\n",
        "def my_l1(yhat, bbox_tgts, class_tgts):\n",
        "    return nn.L1Loss()(yhat[:,:4].unsqueeze_(dim=1), bbox_tgts)"
      ],
      "execution_count": 0,
      "outputs": []
    },
    {
      "cell_type": "code",
      "metadata": {
        "id": "AiaJrrcZAGUZ",
        "colab_type": "code",
        "colab": {}
      },
      "source": [
        "custom_head = nn.Sequential(\n",
        "    AdaptiveConcatPool2d((4,4)),\n",
        "    Flatten(),\n",
        "    nn.ReLU(),\n",
        "    nn.Dropout(0.5),\n",
        "    nn.Linear(16384,256), #2*512*4*4\n",
        "    nn.ReLU(),\n",
        "    nn.BatchNorm1d(256),\n",
        "    nn.Dropout(0.5),\n",
        "    nn.Linear(256,8))"
      ],
      "execution_count": 0,
      "outputs": []
    },
    {
      "cell_type": "code",
      "metadata": {
        "id": "F0mDhtpjANNr",
        "colab_type": "code",
        "colab": {}
      },
      "source": [
        "\n",
        "learn=cnn_learner(data, models.resnet34, custom_head=custom_head, loss_func=MyLoss(), metrics=[my_accuracy, my_l1])"
      ],
      "execution_count": 0,
      "outputs": []
    },
    {
      "cell_type": "code",
      "metadata": {
        "id": "trXJyPCqAQ5U",
        "colab_type": "code",
        "colab": {}
      },
      "source": [
        "learn.freeze()"
      ],
      "execution_count": 0,
      "outputs": []
    },
    {
      "cell_type": "code",
      "metadata": {
        "id": "x71vOPH-ASpG",
        "colab_type": "code",
        "colab": {}
      },
      "source": [
        ""
      ],
      "execution_count": 0,
      "outputs": []
    },
    {
      "cell_type": "code",
      "metadata": {
        "id": "BOS1OCh-AU2y",
        "colab_type": "code",
        "outputId": "9fd54e4a-a3cc-41f6-e06d-db089427c5b0",
        "colab": {
          "base_uri": "https://localhost:8080/",
          "height": 634
        }
      },
      "source": [
        "\n",
        "lr=1e-2\n",
        "learn.fit_one_cycle(20, slice(lr/10, lr))"
      ],
      "execution_count": 9,
      "outputs": [
        {
          "output_type": "display_data",
          "data": {
            "text/html": [
              "<table border=\"1\" class=\"dataframe\">\n",
              "  <thead>\n",
              "    <tr style=\"text-align: left;\">\n",
              "      <th>epoch</th>\n",
              "      <th>train_loss</th>\n",
              "      <th>valid_loss</th>\n",
              "      <th>my_accuracy</th>\n",
              "      <th>my_l1</th>\n",
              "      <th>time</th>\n",
              "    </tr>\n",
              "  </thead>\n",
              "  <tbody>\n",
              "    <tr>\n",
              "      <td>0</td>\n",
              "      <td>2.616735</td>\n",
              "      <td>2.004865</td>\n",
              "      <td>0.819149</td>\n",
              "      <td>1.378592</td>\n",
              "      <td>00:21</td>\n",
              "    </tr>\n",
              "    <tr>\n",
              "      <td>1</td>\n",
              "      <td>2.028011</td>\n",
              "      <td>1.480738</td>\n",
              "      <td>0.920213</td>\n",
              "      <td>1.119667</td>\n",
              "      <td>00:20</td>\n",
              "    </tr>\n",
              "    <tr>\n",
              "      <td>2</td>\n",
              "      <td>1.699899</td>\n",
              "      <td>1.144495</td>\n",
              "      <td>0.882979</td>\n",
              "      <td>0.736329</td>\n",
              "      <td>00:19</td>\n",
              "    </tr>\n",
              "    <tr>\n",
              "      <td>3</td>\n",
              "      <td>1.401936</td>\n",
              "      <td>0.671724</td>\n",
              "      <td>0.957447</td>\n",
              "      <td>0.463895</td>\n",
              "      <td>00:20</td>\n",
              "    </tr>\n",
              "    <tr>\n",
              "      <td>4</td>\n",
              "      <td>1.163221</td>\n",
              "      <td>0.453575</td>\n",
              "      <td>0.984043</td>\n",
              "      <td>0.296333</td>\n",
              "      <td>00:20</td>\n",
              "    </tr>\n",
              "    <tr>\n",
              "      <td>5</td>\n",
              "      <td>0.959676</td>\n",
              "      <td>0.417631</td>\n",
              "      <td>0.962766</td>\n",
              "      <td>0.211363</td>\n",
              "      <td>00:20</td>\n",
              "    </tr>\n",
              "    <tr>\n",
              "      <td>6</td>\n",
              "      <td>0.800018</td>\n",
              "      <td>0.300210</td>\n",
              "      <td>0.989362</td>\n",
              "      <td>0.178495</td>\n",
              "      <td>00:20</td>\n",
              "    </tr>\n",
              "    <tr>\n",
              "      <td>7</td>\n",
              "      <td>0.674214</td>\n",
              "      <td>0.298120</td>\n",
              "      <td>0.994681</td>\n",
              "      <td>0.200982</td>\n",
              "      <td>00:20</td>\n",
              "    </tr>\n",
              "    <tr>\n",
              "      <td>8</td>\n",
              "      <td>0.578039</td>\n",
              "      <td>0.262189</td>\n",
              "      <td>0.973404</td>\n",
              "      <td>0.134209</td>\n",
              "      <td>00:20</td>\n",
              "    </tr>\n",
              "    <tr>\n",
              "      <td>9</td>\n",
              "      <td>0.500729</td>\n",
              "      <td>0.246598</td>\n",
              "      <td>0.989362</td>\n",
              "      <td>0.146787</td>\n",
              "      <td>00:20</td>\n",
              "    </tr>\n",
              "    <tr>\n",
              "      <td>10</td>\n",
              "      <td>0.440678</td>\n",
              "      <td>0.213941</td>\n",
              "      <td>0.989362</td>\n",
              "      <td>0.114824</td>\n",
              "      <td>00:20</td>\n",
              "    </tr>\n",
              "    <tr>\n",
              "      <td>11</td>\n",
              "      <td>0.389679</td>\n",
              "      <td>0.261503</td>\n",
              "      <td>0.973404</td>\n",
              "      <td>0.119740</td>\n",
              "      <td>00:20</td>\n",
              "    </tr>\n",
              "    <tr>\n",
              "      <td>12</td>\n",
              "      <td>0.348088</td>\n",
              "      <td>0.216709</td>\n",
              "      <td>0.989362</td>\n",
              "      <td>0.110613</td>\n",
              "      <td>00:20</td>\n",
              "    </tr>\n",
              "    <tr>\n",
              "      <td>13</td>\n",
              "      <td>0.312549</td>\n",
              "      <td>0.208431</td>\n",
              "      <td>0.994681</td>\n",
              "      <td>0.103486</td>\n",
              "      <td>00:20</td>\n",
              "    </tr>\n",
              "    <tr>\n",
              "      <td>14</td>\n",
              "      <td>0.281651</td>\n",
              "      <td>0.212600</td>\n",
              "      <td>0.994681</td>\n",
              "      <td>0.109243</td>\n",
              "      <td>00:20</td>\n",
              "    </tr>\n",
              "    <tr>\n",
              "      <td>15</td>\n",
              "      <td>0.257751</td>\n",
              "      <td>0.203073</td>\n",
              "      <td>0.994681</td>\n",
              "      <td>0.099175</td>\n",
              "      <td>00:20</td>\n",
              "    </tr>\n",
              "    <tr>\n",
              "      <td>16</td>\n",
              "      <td>0.233792</td>\n",
              "      <td>0.207827</td>\n",
              "      <td>0.994681</td>\n",
              "      <td>0.103547</td>\n",
              "      <td>00:20</td>\n",
              "    </tr>\n",
              "    <tr>\n",
              "      <td>17</td>\n",
              "      <td>0.218527</td>\n",
              "      <td>0.194831</td>\n",
              "      <td>0.994681</td>\n",
              "      <td>0.091558</td>\n",
              "      <td>00:20</td>\n",
              "    </tr>\n",
              "    <tr>\n",
              "      <td>18</td>\n",
              "      <td>0.201115</td>\n",
              "      <td>0.190783</td>\n",
              "      <td>0.994681</td>\n",
              "      <td>0.089127</td>\n",
              "      <td>00:20</td>\n",
              "    </tr>\n",
              "    <tr>\n",
              "      <td>19</td>\n",
              "      <td>0.187635</td>\n",
              "      <td>0.189242</td>\n",
              "      <td>0.994681</td>\n",
              "      <td>0.088413</td>\n",
              "      <td>00:20</td>\n",
              "    </tr>\n",
              "  </tbody>\n",
              "</table>"
            ],
            "text/plain": [
              "<IPython.core.display.HTML object>"
            ]
          },
          "metadata": {
            "tags": []
          }
        }
      ]
    },
    {
      "cell_type": "code",
      "metadata": {
        "id": "oGV4any6AWxe",
        "colab_type": "code",
        "colab": {}
      },
      "source": [
        "learn.unfreeze()"
      ],
      "execution_count": 0,
      "outputs": []
    },
    {
      "cell_type": "code",
      "metadata": {
        "id": "j4Z_qzN7AY2c",
        "colab_type": "code",
        "colab": {}
      },
      "source": [
        ""
      ],
      "execution_count": 0,
      "outputs": []
    },
    {
      "cell_type": "code",
      "metadata": {
        "id": "aBkiZFhAAgFI",
        "colab_type": "code",
        "outputId": "98f2aea0-5d0b-4ae9-e1ed-76783435a99e",
        "colab": {
          "base_uri": "https://localhost:8080/",
          "height": 634
        }
      },
      "source": [
        "\n",
        "lr=5e-4\n",
        "learn.fit_one_cycle(20, slice(lr/10, lr))"
      ],
      "execution_count": 11,
      "outputs": [
        {
          "output_type": "display_data",
          "data": {
            "text/html": [
              "<table border=\"1\" class=\"dataframe\">\n",
              "  <thead>\n",
              "    <tr style=\"text-align: left;\">\n",
              "      <th>epoch</th>\n",
              "      <th>train_loss</th>\n",
              "      <th>valid_loss</th>\n",
              "      <th>my_accuracy</th>\n",
              "      <th>my_l1</th>\n",
              "      <th>time</th>\n",
              "    </tr>\n",
              "  </thead>\n",
              "  <tbody>\n",
              "    <tr>\n",
              "      <td>0</td>\n",
              "      <td>0.139556</td>\n",
              "      <td>0.190926</td>\n",
              "      <td>0.994681</td>\n",
              "      <td>0.084292</td>\n",
              "      <td>00:21</td>\n",
              "    </tr>\n",
              "    <tr>\n",
              "      <td>1</td>\n",
              "      <td>0.136073</td>\n",
              "      <td>0.181262</td>\n",
              "      <td>0.994681</td>\n",
              "      <td>0.078254</td>\n",
              "      <td>00:21</td>\n",
              "    </tr>\n",
              "    <tr>\n",
              "      <td>2</td>\n",
              "      <td>0.135246</td>\n",
              "      <td>0.163591</td>\n",
              "      <td>0.989362</td>\n",
              "      <td>0.079625</td>\n",
              "      <td>00:21</td>\n",
              "    </tr>\n",
              "    <tr>\n",
              "      <td>3</td>\n",
              "      <td>0.135428</td>\n",
              "      <td>0.184923</td>\n",
              "      <td>0.984043</td>\n",
              "      <td>0.069863</td>\n",
              "      <td>00:21</td>\n",
              "    </tr>\n",
              "    <tr>\n",
              "      <td>4</td>\n",
              "      <td>0.142508</td>\n",
              "      <td>0.374403</td>\n",
              "      <td>0.968085</td>\n",
              "      <td>0.094130</td>\n",
              "      <td>00:21</td>\n",
              "    </tr>\n",
              "    <tr>\n",
              "      <td>5</td>\n",
              "      <td>0.143282</td>\n",
              "      <td>0.332440</td>\n",
              "      <td>0.962766</td>\n",
              "      <td>0.082189</td>\n",
              "      <td>00:20</td>\n",
              "    </tr>\n",
              "    <tr>\n",
              "      <td>6</td>\n",
              "      <td>0.156606</td>\n",
              "      <td>0.846012</td>\n",
              "      <td>0.888298</td>\n",
              "      <td>0.108878</td>\n",
              "      <td>00:21</td>\n",
              "    </tr>\n",
              "    <tr>\n",
              "      <td>7</td>\n",
              "      <td>0.152081</td>\n",
              "      <td>0.217722</td>\n",
              "      <td>0.989362</td>\n",
              "      <td>0.075441</td>\n",
              "      <td>00:21</td>\n",
              "    </tr>\n",
              "    <tr>\n",
              "      <td>8</td>\n",
              "      <td>0.143197</td>\n",
              "      <td>0.137959</td>\n",
              "      <td>0.994681</td>\n",
              "      <td>0.059539</td>\n",
              "      <td>00:21</td>\n",
              "    </tr>\n",
              "    <tr>\n",
              "      <td>9</td>\n",
              "      <td>0.132538</td>\n",
              "      <td>0.127894</td>\n",
              "      <td>0.994681</td>\n",
              "      <td>0.053429</td>\n",
              "      <td>00:21</td>\n",
              "    </tr>\n",
              "    <tr>\n",
              "      <td>10</td>\n",
              "      <td>0.125353</td>\n",
              "      <td>0.130797</td>\n",
              "      <td>0.994681</td>\n",
              "      <td>0.051618</td>\n",
              "      <td>00:21</td>\n",
              "    </tr>\n",
              "    <tr>\n",
              "      <td>11</td>\n",
              "      <td>0.119411</td>\n",
              "      <td>0.128219</td>\n",
              "      <td>0.994681</td>\n",
              "      <td>0.052461</td>\n",
              "      <td>00:21</td>\n",
              "    </tr>\n",
              "    <tr>\n",
              "      <td>12</td>\n",
              "      <td>0.113128</td>\n",
              "      <td>0.127874</td>\n",
              "      <td>0.994681</td>\n",
              "      <td>0.050613</td>\n",
              "      <td>00:21</td>\n",
              "    </tr>\n",
              "    <tr>\n",
              "      <td>13</td>\n",
              "      <td>0.106988</td>\n",
              "      <td>0.128540</td>\n",
              "      <td>0.989362</td>\n",
              "      <td>0.046974</td>\n",
              "      <td>00:21</td>\n",
              "    </tr>\n",
              "    <tr>\n",
              "      <td>14</td>\n",
              "      <td>0.102404</td>\n",
              "      <td>0.128342</td>\n",
              "      <td>0.989362</td>\n",
              "      <td>0.045101</td>\n",
              "      <td>00:21</td>\n",
              "    </tr>\n",
              "    <tr>\n",
              "      <td>15</td>\n",
              "      <td>0.097964</td>\n",
              "      <td>0.126201</td>\n",
              "      <td>0.989362</td>\n",
              "      <td>0.043970</td>\n",
              "      <td>00:21</td>\n",
              "    </tr>\n",
              "    <tr>\n",
              "      <td>16</td>\n",
              "      <td>0.094622</td>\n",
              "      <td>0.121696</td>\n",
              "      <td>0.989362</td>\n",
              "      <td>0.043561</td>\n",
              "      <td>00:20</td>\n",
              "    </tr>\n",
              "    <tr>\n",
              "      <td>17</td>\n",
              "      <td>0.091997</td>\n",
              "      <td>0.120871</td>\n",
              "      <td>0.994681</td>\n",
              "      <td>0.043234</td>\n",
              "      <td>00:21</td>\n",
              "    </tr>\n",
              "    <tr>\n",
              "      <td>18</td>\n",
              "      <td>0.089761</td>\n",
              "      <td>0.119756</td>\n",
              "      <td>0.994681</td>\n",
              "      <td>0.041685</td>\n",
              "      <td>00:20</td>\n",
              "    </tr>\n",
              "    <tr>\n",
              "      <td>19</td>\n",
              "      <td>0.087372</td>\n",
              "      <td>0.120252</td>\n",
              "      <td>0.994681</td>\n",
              "      <td>0.042048</td>\n",
              "      <td>00:21</td>\n",
              "    </tr>\n",
              "  </tbody>\n",
              "</table>"
            ],
            "text/plain": [
              "<IPython.core.display.HTML object>"
            ]
          },
          "metadata": {
            "tags": []
          }
        }
      ]
    },
    {
      "cell_type": "code",
      "metadata": {
        "id": "o7xiot5VRb3r",
        "colab_type": "code",
        "colab": {}
      },
      "source": [
        "learn.export()"
      ],
      "execution_count": 0,
      "outputs": []
    },
    {
      "cell_type": "code",
      "metadata": {
        "id": "sXTkcmnEaZw2",
        "colab_type": "code",
        "colab": {}
      },
      "source": [
        "learn.path"
      ],
      "execution_count": 0,
      "outputs": []
    }
  ]
}